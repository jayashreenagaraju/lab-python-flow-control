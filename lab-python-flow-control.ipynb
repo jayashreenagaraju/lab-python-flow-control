{
 "cells": [
  {
   "cell_type": "markdown",
   "id": "d3bfc191-8885-42ee-b0a0-bbab867c6f9f",
   "metadata": {
    "tags": []
   },
   "source": [
    "# Lab | Flow Control"
   ]
  },
  {
   "cell_type": "markdown",
   "id": "3851fcd1-cf98-4653-9c89-e003b7ec9400",
   "metadata": {},
   "source": [
    "## Exercise: Managing Customer Orders Optimized\n",
    "\n",
    "In the last lab, you were starting an online store that sells various products. To ensure smooth operations, you developed a program that manages customer orders and inventory.\n",
    "\n",
    "You did so without using flow control. Let's go a step further and improve this code.\n",
    "\n",
    "Follow the steps below to complete the exercise:\n",
    "\n",
    "1. Look at your code from the lab data structures, and improve repeated code with loops.\n",
    "\n",
    "2. Instead of asking the user to input the name of three products that a customer wants to order, do the following:\n",
    "    \n",
    "    a. Prompt the user to enter the name of a product that a customer wants to order.\n",
    "    \n",
    "    b. Add the product name to the \"customer_orders\" set.\n",
    "    \n",
    "    c. Ask the user if they want to add another product (yes/no).\n",
    "    \n",
    "    d. Continue the loop until the user does not want to add another product.\n",
    "\n",
    "3. Instead of updating the inventory by subtracting 1 from the quantity of each product, only do it for  the products that were ordered (those in \"customer_orders\")."
   ]
  },
  {
   "cell_type": "markdown",
   "id": "02a2c8e7-9eed-4b5b-aadd-572ee05a1e45",
   "metadata": {},
   "source": [
    "1. Look at your code from the lab data structures, and improve repeated code with loops."
   ]
  },
  {
   "cell_type": "code",
   "execution_count": 3,
   "id": "18314f06-c85b-495b-a6f2-6925e9586d1b",
   "metadata": {},
   "outputs": [
    {
     "name": "stdin",
     "output_type": "stream",
     "text": [
      "Enter quantity of t-shirt 10\n",
      "Enter quantity of mug 10\n",
      "Enter quantity of hat 12\n",
      "Enter quantity of book 20\n",
      "Enter quantity of keychain 30\n"
     ]
    }
   ],
   "source": [
    "products = [\"t-shirt\", \"mug\", \"hat\", \"book\", \"keychain\"]\n",
    "inventory = {}\n",
    "for product in products:\n",
    "    quantity = int(input(\"Enter quantity of \"+product))\n",
    "    inventory[product]= quantity"
   ]
  },
  {
   "cell_type": "markdown",
   "id": "852df998-999f-4a1b-8d5d-6ae03815dc27",
   "metadata": {},
   "source": [
    "2.Instead of asking the user to input the name of three products that a customer wants to order, do the following:\n",
    "\n",
    "a. Prompt the user to enter the name of a product that a customer wants to order.\n",
    "\n",
    "b. Add the product name to the \"customer_orders\" set.\n",
    "\n",
    "c. Ask the user if they want to add another product (yes/no).\n",
    "\n",
    "d. Continue the loop until the user does not want to add another product.\n",
    "\n"
   ]
  },
  {
   "cell_type": "code",
   "execution_count": 5,
   "id": "926600c1-f95f-4580-b433-3867f282afb4",
   "metadata": {},
   "outputs": [
    {
     "name": "stdin",
     "output_type": "stream",
     "text": [
      "Enter a product name out of t-shirt, mug, hat, book or keychain:  mug\n",
      "Do you want to add another product? yes/no yes\n",
      "Enter a product name out of t-shirt, mug, hat, book or keychain:  hat\n",
      "Do you want to add another product? yes/no book\n"
     ]
    },
    {
     "data": {
      "text/plain": [
       "{'hat', 'mug'}"
      ]
     },
     "execution_count": 5,
     "metadata": {},
     "output_type": "execute_result"
    }
   ],
   "source": [
    "next_product = \"yes\"\n",
    "customer_orders = set()\n",
    "while next_product == \"yes\":\n",
    "    product_name = input(\"Enter a product name out of t-shirt, mug, hat, book or keychain: \")\n",
    "    customer_orders.add(product_name)\n",
    "    next_product = input(\"Do you want to add another product? yes/no\")\n",
    "\n",
    "customer_orders"
   ]
  },
  {
   "cell_type": "markdown",
   "id": "fb97fdbb-f048-4f73-8fa9-e89129ac042b",
   "metadata": {},
   "source": [
    "3.Instead of updating the inventory by subtracting 1 from the quantity of each product, only do it for the products that were ordered (those in \"customer_orders\")"
   ]
  },
  {
   "cell_type": "code",
   "execution_count": 6,
   "id": "8563f128-42f1-4907-b537-aac6816a18cc",
   "metadata": {},
   "outputs": [
    {
     "data": {
      "text/plain": [
       "{'t-shirt': 10, 'mug': 9, 'hat': 11, 'book': 20, 'keychain': 30}"
      ]
     },
     "execution_count": 6,
     "metadata": {},
     "output_type": "execute_result"
    }
   ],
   "source": [
    "for inv in inventory:\n",
    "    if inv in customer_orders:\n",
    "        inventory[inv] -= 1\n",
    "    \n",
    "inventory"
   ]
  }
 ],
 "metadata": {
  "kernelspec": {
   "display_name": "Python 3 (ipykernel)",
   "language": "python",
   "name": "python3"
  },
  "language_info": {
   "codemirror_mode": {
    "name": "ipython",
    "version": 3
   },
   "file_extension": ".py",
   "mimetype": "text/x-python",
   "name": "python",
   "nbconvert_exporter": "python",
   "pygments_lexer": "ipython3",
   "version": "3.12.3"
  }
 },
 "nbformat": 4,
 "nbformat_minor": 5
}
